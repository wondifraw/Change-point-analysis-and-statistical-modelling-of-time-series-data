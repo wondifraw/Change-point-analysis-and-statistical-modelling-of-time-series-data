{
 "cells": [
  {
   "cell_type": "markdown",
   "metadata": {},
   "source": [
    "# Task 1: Data Analysis Workflow Foundation\n",
    "\n",
    "This notebook demonstrates the complete workflow for Brent oil price change point analysis."
   ]
  },
  {
   "cell_type": "code",
   "execution_count": 1,
   "metadata": {},
   "outputs": [],
   "source": [
    "import sys\n",
    "import pandas as pd\n",
    "import numpy as np\n",
    "import matplotlib.pyplot as plt\n",
    "import warnings\n",
    "warnings.filterwarnings('ignore')\n",
    "\n",
    "# Import custom modules\n",
    "sys.path.append('..')\n",
    "from src.data_workflow import DataAnalysisWorkflow\n",
    "from src.event_compiler import EventCompiler\n",
    "from src.time_series_analyzer import TimeSeriesAnalyzer\n",
    "from src.change_point_model import ChangePointModel"
   ]
  },
  {
   "cell_type": "markdown",
   "metadata": {},
   "source": [
    "## 1. Initialize Workflow and Compile Events"
   ]
  },
  {
   "cell_type": "code",
   "execution_count": 2,
   "metadata": {},
   "outputs": [
    {
     "name": "stdout",
     "output_type": "stream",
     "text": [
      "Compiled 15 major events\n",
      "\n",
      "Event Categories:\n",
      "category\n",
      "Geopolitical     7\n",
      "OPEC Decision    5\n",
      "Economic         3\n",
      "Name: count, dtype: int64\n"
     ]
    },
    {
     "data": {
      "application/vnd.microsoft.datawrangler.viewer.v0+json": {
       "columns": [
        {
         "name": "index",
         "rawType": "int64",
         "type": "integer"
        },
        {
         "name": "date",
         "rawType": "datetime64[ns]",
         "type": "datetime"
        },
        {
         "name": "event",
         "rawType": "object",
         "type": "string"
        },
        {
         "name": "category",
         "rawType": "object",
         "type": "string"
        },
        {
         "name": "impact",
         "rawType": "object",
         "type": "string"
        }
       ],
       "ref": "b7a20cbc-7cee-42f1-bb3a-b29bae1b5eb1",
       "rows": [
        [
         "0",
         "1990-08-02 00:00:00",
         "Iraq invasion of Kuwait",
         "Geopolitical",
         "High"
        ],
        [
         "1",
         "2001-09-11 00:00:00",
         "September 11 attacks",
         "Geopolitical",
         "High"
        ],
        [
         "2",
         "2003-03-20 00:00:00",
         "Iraq War begins",
         "Geopolitical",
         "High"
        ],
        [
         "3",
         "2008-09-15 00:00:00",
         "Lehman Brothers collapse",
         "Economic",
         "High"
        ],
        [
         "4",
         "2010-12-17 00:00:00",
         "Arab Spring begins",
         "Geopolitical",
         "Medium"
        ],
        [
         "5",
         "2011-03-19 00:00:00",
         "Libya civil war intervention",
         "Geopolitical",
         "Medium"
        ],
        [
         "6",
         "2014-11-27 00:00:00",
         "OPEC maintains production",
         "OPEC Decision",
         "High"
        ],
        [
         "7",
         "2016-11-30 00:00:00",
         "OPEC production cut agreement",
         "OPEC Decision",
         "High"
        ],
        [
         "8",
         "2018-05-08 00:00:00",
         "US withdraws from Iran nuclear deal",
         "Geopolitical",
         "Medium"
        ],
        [
         "9",
         "2020-03-06 00:00:00",
         "OPEC+ deal collapse",
         "OPEC Decision",
         "High"
        ]
       ],
       "shape": {
        "columns": 4,
        "rows": 10
       }
      },
      "text/html": [
       "<div>\n",
       "<style scoped>\n",
       "    .dataframe tbody tr th:only-of-type {\n",
       "        vertical-align: middle;\n",
       "    }\n",
       "\n",
       "    .dataframe tbody tr th {\n",
       "        vertical-align: top;\n",
       "    }\n",
       "\n",
       "    .dataframe thead th {\n",
       "        text-align: right;\n",
       "    }\n",
       "</style>\n",
       "<table border=\"1\" class=\"dataframe\">\n",
       "  <thead>\n",
       "    <tr style=\"text-align: right;\">\n",
       "      <th></th>\n",
       "      <th>date</th>\n",
       "      <th>event</th>\n",
       "      <th>category</th>\n",
       "      <th>impact</th>\n",
       "    </tr>\n",
       "  </thead>\n",
       "  <tbody>\n",
       "    <tr>\n",
       "      <th>0</th>\n",
       "      <td>1990-08-02</td>\n",
       "      <td>Iraq invasion of Kuwait</td>\n",
       "      <td>Geopolitical</td>\n",
       "      <td>High</td>\n",
       "    </tr>\n",
       "    <tr>\n",
       "      <th>1</th>\n",
       "      <td>2001-09-11</td>\n",
       "      <td>September 11 attacks</td>\n",
       "      <td>Geopolitical</td>\n",
       "      <td>High</td>\n",
       "    </tr>\n",
       "    <tr>\n",
       "      <th>2</th>\n",
       "      <td>2003-03-20</td>\n",
       "      <td>Iraq War begins</td>\n",
       "      <td>Geopolitical</td>\n",
       "      <td>High</td>\n",
       "    </tr>\n",
       "    <tr>\n",
       "      <th>3</th>\n",
       "      <td>2008-09-15</td>\n",
       "      <td>Lehman Brothers collapse</td>\n",
       "      <td>Economic</td>\n",
       "      <td>High</td>\n",
       "    </tr>\n",
       "    <tr>\n",
       "      <th>4</th>\n",
       "      <td>2010-12-17</td>\n",
       "      <td>Arab Spring begins</td>\n",
       "      <td>Geopolitical</td>\n",
       "      <td>Medium</td>\n",
       "    </tr>\n",
       "    <tr>\n",
       "      <th>5</th>\n",
       "      <td>2011-03-19</td>\n",
       "      <td>Libya civil war intervention</td>\n",
       "      <td>Geopolitical</td>\n",
       "      <td>Medium</td>\n",
       "    </tr>\n",
       "    <tr>\n",
       "      <th>6</th>\n",
       "      <td>2014-11-27</td>\n",
       "      <td>OPEC maintains production</td>\n",
       "      <td>OPEC Decision</td>\n",
       "      <td>High</td>\n",
       "    </tr>\n",
       "    <tr>\n",
       "      <th>7</th>\n",
       "      <td>2016-11-30</td>\n",
       "      <td>OPEC production cut agreement</td>\n",
       "      <td>OPEC Decision</td>\n",
       "      <td>High</td>\n",
       "    </tr>\n",
       "    <tr>\n",
       "      <th>8</th>\n",
       "      <td>2018-05-08</td>\n",
       "      <td>US withdraws from Iran nuclear deal</td>\n",
       "      <td>Geopolitical</td>\n",
       "      <td>Medium</td>\n",
       "    </tr>\n",
       "    <tr>\n",
       "      <th>9</th>\n",
       "      <td>2020-03-06</td>\n",
       "      <td>OPEC+ deal collapse</td>\n",
       "      <td>OPEC Decision</td>\n",
       "      <td>High</td>\n",
       "    </tr>\n",
       "  </tbody>\n",
       "</table>\n",
       "</div>"
      ],
      "text/plain": [
       "        date                                event       category  impact\n",
       "0 1990-08-02              Iraq invasion of Kuwait   Geopolitical    High\n",
       "1 2001-09-11                 September 11 attacks   Geopolitical    High\n",
       "2 2003-03-20                      Iraq War begins   Geopolitical    High\n",
       "3 2008-09-15             Lehman Brothers collapse       Economic    High\n",
       "4 2010-12-17                   Arab Spring begins   Geopolitical  Medium\n",
       "5 2011-03-19         Libya civil war intervention   Geopolitical  Medium\n",
       "6 2014-11-27            OPEC maintains production  OPEC Decision    High\n",
       "7 2016-11-30        OPEC production cut agreement  OPEC Decision    High\n",
       "8 2018-05-08  US withdraws from Iran nuclear deal   Geopolitical  Medium\n",
       "9 2020-03-06                  OPEC+ deal collapse  OPEC Decision    High"
      ]
     },
     "execution_count": 2,
     "metadata": {},
     "output_type": "execute_result"
    }
   ],
   "source": [
    "# Initialize workflow\n",
    "workflow = DataAnalysisWorkflow(\"../data/raw/BrentOilPrices.csv\")\n",
    "\n",
    "# Compile major events\n",
    "event_compiler = EventCompiler(\"../data/processed/events.csv\")\n",
    "events_df = event_compiler.compile_major_events()\n",
    "\n",
    "print(f\"Compiled {len(events_df)} major events\")\n",
    "print(\"\\nEvent Categories:\")\n",
    "print(events_df['category'].value_counts())\n",
    "\n",
    "events_df.head(10)"
   ]
  },
  {
   "cell_type": "markdown",
   "metadata": {},
   "source": [
    "## 2. Load and Analyze Time Series Data"
   ]
  },
  {
   "cell_type": "code",
   "execution_count": 3,
   "metadata": {},
   "outputs": [
    {
     "name": "stdout",
     "output_type": "stream",
     "text": [
      "Data shape: (9011, 2)\n",
      "Date range: 1987-05-20 00:00:00 to 2022-11-14 00:00:00\n"
     ]
    },
    {
     "data": {
      "image/png": "[encoded data removed]",
      "text/plain": [
       "<Figure size 1200x600 with 1 Axes>"
      ]
     },
     "metadata": {},
     "output_type": "display_data"
    }
   ],
   "source": [
    "try:\n",
    "    # Load real data\n",
    "    oil_data = pd.read_csv(\"../data/raw/BrentOilPrices.csv\")\n",
    "    oil_data['Date'] = pd.to_datetime(oil_data['Date'])\n",
    "    oil_data = oil_data.rename(columns={'Date': 'date', 'Price': 'price'})\n",
    "except FileNotFoundError:\n",
    "    # Create synthetic data for demonstration\n",
    "    print(\"Creating synthetic Brent oil price data...\")\n",
    "    dates = pd.date_range('2000-01-01', '2023-12-31', freq='D')\n",
    "    np.random.seed(42)\n",
    "    prices = 50 + np.random.randn(len(dates)).cumsum() * 2\n",
    "    oil_data = pd.DataFrame({'date': dates, 'price': prices})\n",
    "\n",
    "print(f\"Data shape: {oil_data.shape}\")\n",
    "print(f\"Date range: {oil_data['date'].min()} to {oil_data['date'].max()}\")\n",
    "\n",
    "# Plot price series\n",
    "plt.figure(figsize=(12, 6))\n",
    "plt.plot(oil_data['date'], oil_data['price'])\n",
    "plt.title('Brent Oil Prices Over Time')\n",
    "plt.xlabel('Date')\n",
    "plt.ylabel('Price (USD)')\n",
    "plt.grid(True, alpha=0.3)\n",
    "plt.show()"
   ]
  },
  {
   "cell_type": "markdown",
   "metadata": {},
   "source": [
    "## 3. Time Series Properties Analysis"
   ]
  },
  {
   "cell_type": "code",
   "execution_count": 4,
   "metadata": {},
   "outputs": [
    {
     "name": "stdout",
     "output_type": "stream",
     "text": [
      "=== TIME SERIES PROPERTIES ===\n",
      "Trend Analysis: {'trend_slope': np.float64(0.009108410910685719), 'trend_significance': np.True_, 'r_squared': np.float64(0.5199482631930914), 'trend_direction': 'upward'}\n",
      "\n",
      "Stationarity Test: {'adf_statistic': np.float64(-1.9938560113924675), 'p_value': np.float64(0.28927350489340287), 'is_stationary': np.False_, 'critical_values': {'1%': np.float64(-3.4310783342658615), '5%': np.float64(-2.861861876398633), '10%': np.float64(-2.566941329781918)}}\n",
      "\n",
      "Volatility Analysis: {'volatility_mean': np.float64(0.025254952736854894), 'volatility_clusters': np.True_, 'max_drawdown': np.float64(-0.9366446682875996)}\n",
      "\n",
      "Modeling Implications:\n"
     ]
    }
   ],
   "source": [
    "# Analyze time series properties\n",
    "ts_analyzer = TimeSeriesAnalyzer(oil_data)\n",
    "properties = ts_analyzer.analyze_properties()\n",
    "\n",
    "print(\"=== TIME SERIES PROPERTIES ===\")\n",
    "print(f\"Trend Analysis: {properties['trend_analysis']}\")\n",
    "print(f\"\\nStationarity Test: {properties['stationarity_test']}\")\n",
    "print(f\"\\nVolatility Analysis: {properties['volatility_analysis']}\")\n",
    "print(f\"\\nModeling Implications:\")\n",
    "for implication in properties['modeling_implications']:\n",
    "    print(f\"  - {implication}\")"
   ]
  },
  {
   "cell_type": "markdown",
   "metadata": {},
   "source": [
    "## 4. Change Point Detection"
   ]
  },
  {
   "cell_type": "code",
   "execution_count": 5,
   "metadata": {},
   "outputs": [
    {
     "name": "stdout",
     "output_type": "stream",
     "text": [
      "=== CHANGE POINT DETECTION ===\n",
      "Method: PELT\n",
      "Change points detected: 1\n",
      "Change dates: [Timestamp('2004-08-03 00:00:00')]\n",
      "\n",
      "=== EXPECTED OUTPUTS ===\n",
      "change_point_dates: Specific dates when structural breaks occur\n",
      "regime_parameters: Statistical parameters for each regime\n",
      "confidence_intervals: Uncertainty bounds for change point locations\n",
      "model_diagnostics: Goodness-of-fit and model selection metrics\n",
      "\n",
      "=== LIMITATIONS ===\n",
      "false_positives: May detect spurious change points in noisy data\n",
      "parameter_sensitivity: Results depend on penalty parameter selection\n",
      "minimum_segment_size: Cannot detect changes in very short segments\n",
      "assumption_violations: Assumes independence and normality of residuals\n",
      "computational_complexity: May be slow for very large datasets\n"
     ]
    }
   ],
   "source": [
    "# Detect change points using PELT method\n",
    "cp_model = ChangePointModel(oil_data, method='pelt')\n",
    "change_points = cp_model.detect_change_points(penalty=15.0)\n",
    "\n",
    "print(\"=== CHANGE POINT DETECTION ===\")\n",
    "print(f\"Method: {change_points.get('method', 'N/A')}\")\n",
    "print(f\"Change points detected: {len(change_points.get('change_points', []))}\")\n",
    "print(f\"Change dates: {change_points.get('change_dates', [])}\")\n",
    "\n",
    "# Get expected outputs and limitations\n",
    "expected_outputs = cp_model.get_expected_outputs()\n",
    "print(\"\\n=== EXPECTED OUTPUTS ===\")\n",
    "for key, value in expected_outputs['expected_outputs'].items():\n",
    "    print(f\"{key}: {value}\")\n",
    "\n",
    "print(\"\\n=== LIMITATIONS ===\")\n",
    "for key, value in expected_outputs['limitations'].items():\n",
    "    print(f\"{key}: {value}\")"
   ]
  },
  {
   "cell_type": "markdown",
   "metadata": {},
   "source": [
    "## 5. Workflow Summary and Assumptions"
   ]
  },
  {
   "cell_type": "code",
   "execution_count": 6,
   "metadata": {},
   "outputs": [
    {
     "name": "stdout",
     "output_type": "stream",
     "text": [
      "=== ANALYSIS ASSUMPTIONS ===\n",
      "1. Oil price data is accurate and complete\n",
      "2. Change points represent structural breaks in market behavior\n",
      "3. Geopolitical events have measurable impact on oil prices\n",
      "4. Time series exhibits non-stationary behavior with potential regime changes\n",
      "\n",
      "=== ANALYSIS LIMITATIONS ===\n",
      "1. Statistical correlation does not imply causal relationship\n",
      "2. External factors beyond modeled events may influence prices\n",
      "3. Change point detection may identify spurious breaks\n",
      "4. Model assumes independence of residuals which may not hold\n",
      "5. Limited to historical data patterns, may not predict future behavior\n",
      "\n",
      "=== COMMUNICATION CHANNELS ===\n",
      "1. Executive dashboard with key metrics\n",
      "2. Technical report with detailed methodology\n",
      "3. Interactive visualizations for exploratory analysis\n",
      "4. Presentation slides for stakeholder meetings\n"
     ]
    }
   ],
   "source": [
    "# Execute complete workflow\n",
    "workflow_results = workflow.execute_workflow()\n",
    "\n",
    "print(\"=== ANALYSIS ASSUMPTIONS ===\")\n",
    "for i, assumption in enumerate(workflow.assumptions, 1):\n",
    "    print(f\"{i}. {assumption}\")\n",
    "\n",
    "print(\"\\n=== ANALYSIS LIMITATIONS ===\")\n",
    "for i, limitation in enumerate(workflow.limitations, 1):\n",
    "    print(f\"{i}. {limitation}\")\n",
    "\n",
    "print(\"\\n=== COMMUNICATION CHANNELS ===\")\n",
    "channels = workflow_results['communication_channels']\n",
    "for i, channel in enumerate(channels, 1):\n",
    "    print(f\"{i}. {channel}\")"
   ]
  },
  {
   "cell_type": "markdown",
   "metadata": {},
   "source": [
    "## 6. Correlation vs Causation Discussion"
   ]
  },
  {
   "cell_type": "code",
   "execution_count": 7,
   "metadata": {},
   "outputs": [
    {
     "name": "stdout",
     "output_type": "stream",
     "text": [
      "=== CORRELATION vs CAUSATION ===\n",
      "\n",
      "CRITICAL DISTINCTION:\n",
      "\n",
      "Statistical Correlation:\n",
      "- Change point analysis identifies when statistical properties of oil prices change\n",
      "- Shows temporal association between events and price movements\n",
      "- Measures strength of statistical relationship\n",
      "\n",
      "Causal Impact:\n",
      "- Requires establishing that events CAUSED price changes\n",
      "- Needs to rule out confounding factors and alternative explanations\n",
      "- Demands theoretical framework and additional evidence\n",
      "\n",
      "Our Analysis:\n",
      "- Identifies statistical breaks in price series\n",
      "- Cannot prove events caused the breaks\n",
      "- Provides evidence for further causal investigation\n",
      "- Requires domain expertise for causal interpretation\n",
      "\n"
     ]
    }
   ],
   "source": [
    "print(\"=== CORRELATION vs CAUSATION ===\")\n",
    "print(\"\"\"\n",
    "CRITICAL DISTINCTION:\n",
    "\n",
    "Statistical Correlation:\n",
    "- Change point analysis identifies when statistical properties of oil prices change\n",
    "- Shows temporal association between events and price movements\n",
    "- Measures strength of statistical relationship\n",
    "\n",
    "Causal Impact:\n",
    "- Requires establishing that events CAUSED price changes\n",
    "- Needs to rule out confounding factors and alternative explanations\n",
    "- Demands theoretical framework and additional evidence\n",
    "\n",
    "Our Analysis:\n",
    "- Identifies statistical breaks in price series\n",
    "- Cannot prove events caused the breaks\n",
    "- Provides evidence for further causal investigation\n",
    "- Requires domain expertise for causal interpretation\n",
    "\"\"\")"
   ]
  },
  {
   "cell_type": "code",
   "execution_count": null,
   "metadata": {},
   "outputs": [],
   "source": []
  }
 ],
 "metadata": {
  "kernelspec": {
   "display_name": "Python 3",
   "language": "python",
   "name": "python3"
  },
  "language_info": {
   "codemirror_mode": {
    "name": "ipython",
    "version": 3
   },
   "file_extension": ".py",
   "mimetype": "text/x-python",
   "name": "python",
   "nbconvert_exporter": "python",
   "pygments_lexer": "ipython3",
   "version": "3.13.2"
  }
 },
 "nbformat": 4,
 "nbformat_minor": 4
}
